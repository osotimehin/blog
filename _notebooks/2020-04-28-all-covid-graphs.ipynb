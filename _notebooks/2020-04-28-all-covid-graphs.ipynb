{
  "nbformat": 4,
  "nbformat_minor": 0,
  "metadata": {
    "kernelspec": {
      "display_name": "Python 3",
      "language": "python",
      "name": "python3"
    },
    "language_info": {
      "codemirror_mode": {
        "name": "ipython",
        "version": 3
      },
      "file_extension": ".py",
      "mimetype": "text/x-python",
      "name": "python",
      "nbconvert_exporter": "python",
      "pygments_lexer": "ipython3",
      "version": "3.7.7-final"
    },
    "colab": {
      "name": "2020-04-13-all-covid-graphs.ipynb",
      "provenance": []
    }
  },
  "cells": [
    {
      "cell_type": "markdown",
      "metadata": {
        "id": "Gws98evkj9RK",
        "colab_type": "text"
      },
      "source": [
        "# \" Impact of COVID-19: Cascading Risks\"\n",
        "> \"Sectoral Health and Economic risks\"\n",
        "- toc: true\n",
        "- math: true\n",
        "- badges: false"
      ]
    },
    {
      "cell_type": "markdown",
      "metadata": {
        "id": "o2rlgJfzj9RL",
        "colab_type": "text"
      },
      "source": [
        "**Sophie Osotimehin and Latchezar Popov**\n",
        "\n",
        "*Visualizations by Julien Duranton*"
      ]
    },
    {
      "cell_type": "code",
      "metadata": {
        "id": "USo6dM4rj9RM",
        "colab_type": "code",
        "colab": {
          "base_uri": "https://localhost:8080/",
          "height": 462
        },
        "outputId": "35261c72-3651-4803-aa4f-c8c10275a2d8"
      },
      "source": [
        "#hide_input\n",
        "import ipywidgets as widgets\n",
        "import altair as alt\n",
        "from IPython.display import display\n",
        "from ipywidgets import interact\n",
        "import pandas as pd\n",
        "from vega_datasets import data as data_world\n",
        "import sys\n",
        "import os\n",
        "\n",
        "\n",
        "root = \"C:\\\\Users\\\\osotimehin_s\\\\Documents\\\\GitHub\\\\blog\\\\input_data\\\\covid_input\\\\\"\n",
        "\n",
        "data_agg = pd.read_csv( root + 'results_socialcons_agg.csv')\n",
        "data_sec = pd.read_csv(root + \"results_socialcons_sec.csv\")\n",
        "mapping_cases = pd.read_csv(root + \"results_socialcons_cases.csv\")\n",
        "data_agg_ess = pd.read_csv( root + 'results_essential_agg.csv')\n",
        "data_sec_ess = pd.read_csv(root + \"results_essential_sec.csv\")\n",
        "mapping_industry = pd.read_excel(root + \"corres_WIOD_2016_2013.xlsx\", sheet_name='matlabcode')\n",
        "country_codes = pd.read_csv(root + 'countries_codes_and_coordinates.csv')\n",
        "mapping_country = pd.read_csv(root + \"table_coucode.csv\")\n",
        "\n",
        "\n",
        "#format Data Agg\n",
        "data_agg['Name'] = [mapping_cases[mapping_cases.Var1 == data_agg.casecode[i]].Var2.values[0] \n",
        "                         for i in data_agg.index.tolist()]\n",
        "data_agg['label'] = [mapping_industry[mapping_industry.matlabcode == data_agg.casecode[i]].indname.values[0] if\n",
        "data_agg.casecode[i] != 0 else 'All Social Consumption' for i in data_agg.index.tolist()]\n",
        "\n",
        "data_agg['country'] = [mapping_country[mapping_country.coucodelist == data_agg.coucode[i]].coulist.values[0]  \n",
        "                       for i in data_agg.index.tolist()]\n",
        "data_agg = data_agg.rename(columns={'dGDP':'GDP','ecorisk_tot':'Total Output'})\n",
        "\n",
        "\n",
        "#format Data country map\n",
        "country_codes = country_codes.rename(columns={'Alpha-3 code':'country'})                                                                      \n",
        "data_countries = pd.DataFrame(data_agg.country.unique(), columns=['country'])\n",
        "data_countries = data_countries.merge(country_codes, on='country', how='left')\n",
        "\n",
        "\n",
        "#format Data sec\n",
        "data_sec = data_sec.rename(columns={'ecorisk':'Output','dCi':'Consumption'})\n",
        "\n",
        "data_sec['Name'] = [mapping_cases[mapping_cases.Var1 == data_sec.casecode[i]].Var2.values[0] \n",
        "                         for i in data_sec.index.tolist()]\n",
        "data_sec['label'] = [mapping_industry[mapping_industry.matlabcode == data_sec.casecode[i]].indname.values[0] if\n",
        "data_sec.casecode[i] != 0 else 'All Social Consumption' for i in data_sec.index.tolist()]\n",
        "\n",
        "data_sec['dsName'] = [mapping_industry[mapping_industry.matlabcode == data_sec.indcode[i]].indname.values[0] \n",
        "                         for i in data_sec.index.tolist()]\n",
        "data_sec['country'] = [mapping_country[mapping_country.coucodelist == data_sec.coucode[i]].coulist.values[0]  \n",
        "                       for i in data_sec.index.tolist()]\n",
        "\n",
        "data_sec['type'] = ['closed' if (data_sec.indcode[i] == data_sec.casecode[i]) or \n",
        "                    ((data_sec.casecode[i] == 0) & (data_sec.indcode[i] in data_sec.casecode.unique().tolist())) else \n",
        "                    'second order' for i in data_sec.index.tolist()]\n",
        "\n",
        "\n",
        "#format Data Agg\n",
        "data_agg_ess['country'] = [mapping_country[mapping_country.coucodelist == data_agg_ess.coucode[i]].coulist.values[0]  \n",
        "                       for i in data_agg_ess.index.tolist()]\n",
        "data_agg_ess = data_agg_ess.rename(columns={'emp_needed_tot':'Employment', 'tele_tot':'Teleworker_sector','hrisk_tot':'health_risk'})\n",
        "data_agg_ess['Name']= ['All Sectors' for i in range(data_agg_ess.shape[0])]\n",
        "data_agg_ess['indcode'] = [0 for i in range(data_agg_ess.shape[0])]\n",
        "data_agg_ess['essential'] = [2 for i in range(data_agg_ess.shape[0])]\n",
        "\n",
        "\n",
        "\n",
        "#format Data sec\n",
        "data_sec_ess['country'] = [mapping_country[mapping_country.coucodelist == data_sec_ess.coucode[i]].coulist.values[0]  \n",
        "                       for i in data_sec_ess.index.tolist()]\n",
        "data_sec_ess['Name'] = [mapping_industry[mapping_industry.matlabcode == data_sec_ess.indcode[i]].indname.values[0] \n",
        "                         for i in data_sec_ess.index.tolist()]\n",
        "data_sec_ess['essential'] = [mapping_industry[mapping_industry.matlabcode == data_sec_ess.indcode[i]].essential.values[0]\n",
        "                            for i in data_sec_ess.index.tolist()]\n",
        "\n",
        "data_sec_ess = data_sec_ess.rename(columns={'emp_needed':'Employment', 'tele':'Teleworker_sector',\n",
        "                                            'hrisk':'health_risk'})\n",
        "data_sec_ess = data_sec_ess.append(data_agg_ess, ignore_index=True)\n",
        "\n",
        "data_sec_ess['essential_text'] = ['Essential' if data_sec_ess.essential[i] == 1 else \n",
        "                             'Non-Essential' if data_sec_ess.essential[i] == 0 else \n",
        "                             'All Sectors' for i in data_sec_ess.index.tolist()]\n",
        "\n",
        "data_sec_ess['color'] = ['blue' if data_sec_ess.essential[i] == 1 else \n",
        "                             'lightblue' if data_sec_ess.essential[i] == 0 else \n",
        "                             'orange' for i in data_sec_ess.index.tolist()]\n",
        "\n",
        "\n",
        "data_sec_ess = data_sec_ess.fillna(value=0)\n",
        "\n",
        "# Add country df\n",
        "data_country = pd.DataFrame(data_sec_ess.country.unique(),columns=['country'])\n",
        "data_country['health_risk'] = [data_sec_ess[(data_sec_ess.country == data_country.country[i]) & \n",
        "                                            (data_sec_ess.Name == 'All Sectors')].health_risk.values[0] \n",
        "                               for i in data_country.index.to_list()]\n",
        "data_country['economic_risk'] = [data_agg[(data_agg.country == data_country.country[i]) & \n",
        "                                            (data_agg.Name == 'close_all')].GDP.values[0] \n",
        "                               for i in data_country.index.to_list()]\n",
        "\n",
        "data_country.loc['mean'] = data_country.mean()\n",
        "data_country.country['mean'] = 'Mean'"
      ],
      "execution_count": 1,
      "outputs": [
        {
          "output_type": "error",
          "ename": "FileNotFoundError",
          "evalue": "ignored",
          "traceback": [
            "\u001b[0;31m---------------------------------------------------------------------------\u001b[0m",
            "\u001b[0;31mFileNotFoundError\u001b[0m                         Traceback (most recent call last)",
            "\u001b[0;32m<ipython-input-1-700f9d37a705>\u001b[0m in \u001b[0;36m<module>\u001b[0;34m()\u001b[0m\n\u001b[1;32m     11\u001b[0m \u001b[0mroot\u001b[0m \u001b[0;34m=\u001b[0m \u001b[0;34m\"C:\\\\Users\\\\osotimehin_s\\\\Documents\\\\GitHub\\\\blog\\\\input_data\\\\covid_input\\\\\"\u001b[0m\u001b[0;34m\u001b[0m\u001b[0;34m\u001b[0m\u001b[0m\n\u001b[1;32m     12\u001b[0m \u001b[0;34m\u001b[0m\u001b[0m\n\u001b[0;32m---> 13\u001b[0;31m \u001b[0mdata_agg\u001b[0m \u001b[0;34m=\u001b[0m \u001b[0mpd\u001b[0m\u001b[0;34m.\u001b[0m\u001b[0mread_csv\u001b[0m\u001b[0;34m(\u001b[0m \u001b[0mroot\u001b[0m \u001b[0;34m+\u001b[0m \u001b[0;34m'results_socialcons_agg.csv'\u001b[0m\u001b[0;34m)\u001b[0m\u001b[0;34m\u001b[0m\u001b[0;34m\u001b[0m\u001b[0m\n\u001b[0m\u001b[1;32m     14\u001b[0m \u001b[0mdata_sec\u001b[0m \u001b[0;34m=\u001b[0m \u001b[0mpd\u001b[0m\u001b[0;34m.\u001b[0m\u001b[0mread_csv\u001b[0m\u001b[0;34m(\u001b[0m\u001b[0mroot\u001b[0m \u001b[0;34m+\u001b[0m \u001b[0;34m\"results_socialcons_sec.csv\"\u001b[0m\u001b[0;34m)\u001b[0m\u001b[0;34m\u001b[0m\u001b[0;34m\u001b[0m\u001b[0m\n\u001b[1;32m     15\u001b[0m \u001b[0mmapping_cases\u001b[0m \u001b[0;34m=\u001b[0m \u001b[0mpd\u001b[0m\u001b[0;34m.\u001b[0m\u001b[0mread_csv\u001b[0m\u001b[0;34m(\u001b[0m\u001b[0mroot\u001b[0m \u001b[0;34m+\u001b[0m \u001b[0;34m\"results_socialcons_cases.csv\"\u001b[0m\u001b[0;34m)\u001b[0m\u001b[0;34m\u001b[0m\u001b[0;34m\u001b[0m\u001b[0m\n",
            "\u001b[0;32m/usr/local/lib/python3.6/dist-packages/pandas/io/parsers.py\u001b[0m in \u001b[0;36mparser_f\u001b[0;34m(filepath_or_buffer, sep, delimiter, header, names, index_col, usecols, squeeze, prefix, mangle_dupe_cols, dtype, engine, converters, true_values, false_values, skipinitialspace, skiprows, skipfooter, nrows, na_values, keep_default_na, na_filter, verbose, skip_blank_lines, parse_dates, infer_datetime_format, keep_date_col, date_parser, dayfirst, cache_dates, iterator, chunksize, compression, thousands, decimal, lineterminator, quotechar, quoting, doublequote, escapechar, comment, encoding, dialect, error_bad_lines, warn_bad_lines, delim_whitespace, low_memory, memory_map, float_precision)\u001b[0m\n\u001b[1;32m    674\u001b[0m         )\n\u001b[1;32m    675\u001b[0m \u001b[0;34m\u001b[0m\u001b[0m\n\u001b[0;32m--> 676\u001b[0;31m         \u001b[0;32mreturn\u001b[0m \u001b[0m_read\u001b[0m\u001b[0;34m(\u001b[0m\u001b[0mfilepath_or_buffer\u001b[0m\u001b[0;34m,\u001b[0m \u001b[0mkwds\u001b[0m\u001b[0;34m)\u001b[0m\u001b[0;34m\u001b[0m\u001b[0;34m\u001b[0m\u001b[0m\n\u001b[0m\u001b[1;32m    677\u001b[0m \u001b[0;34m\u001b[0m\u001b[0m\n\u001b[1;32m    678\u001b[0m     \u001b[0mparser_f\u001b[0m\u001b[0;34m.\u001b[0m\u001b[0m__name__\u001b[0m \u001b[0;34m=\u001b[0m \u001b[0mname\u001b[0m\u001b[0;34m\u001b[0m\u001b[0;34m\u001b[0m\u001b[0m\n",
            "\u001b[0;32m/usr/local/lib/python3.6/dist-packages/pandas/io/parsers.py\u001b[0m in \u001b[0;36m_read\u001b[0;34m(filepath_or_buffer, kwds)\u001b[0m\n\u001b[1;32m    446\u001b[0m \u001b[0;34m\u001b[0m\u001b[0m\n\u001b[1;32m    447\u001b[0m     \u001b[0;31m# Create the parser.\u001b[0m\u001b[0;34m\u001b[0m\u001b[0;34m\u001b[0m\u001b[0;34m\u001b[0m\u001b[0m\n\u001b[0;32m--> 448\u001b[0;31m     \u001b[0mparser\u001b[0m \u001b[0;34m=\u001b[0m \u001b[0mTextFileReader\u001b[0m\u001b[0;34m(\u001b[0m\u001b[0mfp_or_buf\u001b[0m\u001b[0;34m,\u001b[0m \u001b[0;34m**\u001b[0m\u001b[0mkwds\u001b[0m\u001b[0;34m)\u001b[0m\u001b[0;34m\u001b[0m\u001b[0;34m\u001b[0m\u001b[0m\n\u001b[0m\u001b[1;32m    449\u001b[0m \u001b[0;34m\u001b[0m\u001b[0m\n\u001b[1;32m    450\u001b[0m     \u001b[0;32mif\u001b[0m \u001b[0mchunksize\u001b[0m \u001b[0;32mor\u001b[0m \u001b[0miterator\u001b[0m\u001b[0;34m:\u001b[0m\u001b[0;34m\u001b[0m\u001b[0;34m\u001b[0m\u001b[0m\n",
            "\u001b[0;32m/usr/local/lib/python3.6/dist-packages/pandas/io/parsers.py\u001b[0m in \u001b[0;36m__init__\u001b[0;34m(self, f, engine, **kwds)\u001b[0m\n\u001b[1;32m    878\u001b[0m             \u001b[0mself\u001b[0m\u001b[0;34m.\u001b[0m\u001b[0moptions\u001b[0m\u001b[0;34m[\u001b[0m\u001b[0;34m\"has_index_names\"\u001b[0m\u001b[0;34m]\u001b[0m \u001b[0;34m=\u001b[0m \u001b[0mkwds\u001b[0m\u001b[0;34m[\u001b[0m\u001b[0;34m\"has_index_names\"\u001b[0m\u001b[0;34m]\u001b[0m\u001b[0;34m\u001b[0m\u001b[0;34m\u001b[0m\u001b[0m\n\u001b[1;32m    879\u001b[0m \u001b[0;34m\u001b[0m\u001b[0m\n\u001b[0;32m--> 880\u001b[0;31m         \u001b[0mself\u001b[0m\u001b[0;34m.\u001b[0m\u001b[0m_make_engine\u001b[0m\u001b[0;34m(\u001b[0m\u001b[0mself\u001b[0m\u001b[0;34m.\u001b[0m\u001b[0mengine\u001b[0m\u001b[0;34m)\u001b[0m\u001b[0;34m\u001b[0m\u001b[0;34m\u001b[0m\u001b[0m\n\u001b[0m\u001b[1;32m    881\u001b[0m \u001b[0;34m\u001b[0m\u001b[0m\n\u001b[1;32m    882\u001b[0m     \u001b[0;32mdef\u001b[0m \u001b[0mclose\u001b[0m\u001b[0;34m(\u001b[0m\u001b[0mself\u001b[0m\u001b[0;34m)\u001b[0m\u001b[0;34m:\u001b[0m\u001b[0;34m\u001b[0m\u001b[0;34m\u001b[0m\u001b[0m\n",
            "\u001b[0;32m/usr/local/lib/python3.6/dist-packages/pandas/io/parsers.py\u001b[0m in \u001b[0;36m_make_engine\u001b[0;34m(self, engine)\u001b[0m\n\u001b[1;32m   1112\u001b[0m     \u001b[0;32mdef\u001b[0m \u001b[0m_make_engine\u001b[0m\u001b[0;34m(\u001b[0m\u001b[0mself\u001b[0m\u001b[0;34m,\u001b[0m \u001b[0mengine\u001b[0m\u001b[0;34m=\u001b[0m\u001b[0;34m\"c\"\u001b[0m\u001b[0;34m)\u001b[0m\u001b[0;34m:\u001b[0m\u001b[0;34m\u001b[0m\u001b[0;34m\u001b[0m\u001b[0m\n\u001b[1;32m   1113\u001b[0m         \u001b[0;32mif\u001b[0m \u001b[0mengine\u001b[0m \u001b[0;34m==\u001b[0m \u001b[0;34m\"c\"\u001b[0m\u001b[0;34m:\u001b[0m\u001b[0;34m\u001b[0m\u001b[0;34m\u001b[0m\u001b[0m\n\u001b[0;32m-> 1114\u001b[0;31m             \u001b[0mself\u001b[0m\u001b[0;34m.\u001b[0m\u001b[0m_engine\u001b[0m \u001b[0;34m=\u001b[0m \u001b[0mCParserWrapper\u001b[0m\u001b[0;34m(\u001b[0m\u001b[0mself\u001b[0m\u001b[0;34m.\u001b[0m\u001b[0mf\u001b[0m\u001b[0;34m,\u001b[0m \u001b[0;34m**\u001b[0m\u001b[0mself\u001b[0m\u001b[0;34m.\u001b[0m\u001b[0moptions\u001b[0m\u001b[0;34m)\u001b[0m\u001b[0;34m\u001b[0m\u001b[0;34m\u001b[0m\u001b[0m\n\u001b[0m\u001b[1;32m   1115\u001b[0m         \u001b[0;32melse\u001b[0m\u001b[0;34m:\u001b[0m\u001b[0;34m\u001b[0m\u001b[0;34m\u001b[0m\u001b[0m\n\u001b[1;32m   1116\u001b[0m             \u001b[0;32mif\u001b[0m \u001b[0mengine\u001b[0m \u001b[0;34m==\u001b[0m \u001b[0;34m\"python\"\u001b[0m\u001b[0;34m:\u001b[0m\u001b[0;34m\u001b[0m\u001b[0;34m\u001b[0m\u001b[0m\n",
            "\u001b[0;32m/usr/local/lib/python3.6/dist-packages/pandas/io/parsers.py\u001b[0m in \u001b[0;36m__init__\u001b[0;34m(self, src, **kwds)\u001b[0m\n\u001b[1;32m   1889\u001b[0m         \u001b[0mkwds\u001b[0m\u001b[0;34m[\u001b[0m\u001b[0;34m\"usecols\"\u001b[0m\u001b[0;34m]\u001b[0m \u001b[0;34m=\u001b[0m \u001b[0mself\u001b[0m\u001b[0;34m.\u001b[0m\u001b[0musecols\u001b[0m\u001b[0;34m\u001b[0m\u001b[0;34m\u001b[0m\u001b[0m\n\u001b[1;32m   1890\u001b[0m \u001b[0;34m\u001b[0m\u001b[0m\n\u001b[0;32m-> 1891\u001b[0;31m         \u001b[0mself\u001b[0m\u001b[0;34m.\u001b[0m\u001b[0m_reader\u001b[0m \u001b[0;34m=\u001b[0m \u001b[0mparsers\u001b[0m\u001b[0;34m.\u001b[0m\u001b[0mTextReader\u001b[0m\u001b[0;34m(\u001b[0m\u001b[0msrc\u001b[0m\u001b[0;34m,\u001b[0m \u001b[0;34m**\u001b[0m\u001b[0mkwds\u001b[0m\u001b[0;34m)\u001b[0m\u001b[0;34m\u001b[0m\u001b[0;34m\u001b[0m\u001b[0m\n\u001b[0m\u001b[1;32m   1892\u001b[0m         \u001b[0mself\u001b[0m\u001b[0;34m.\u001b[0m\u001b[0munnamed_cols\u001b[0m \u001b[0;34m=\u001b[0m \u001b[0mself\u001b[0m\u001b[0;34m.\u001b[0m\u001b[0m_reader\u001b[0m\u001b[0;34m.\u001b[0m\u001b[0munnamed_cols\u001b[0m\u001b[0;34m\u001b[0m\u001b[0;34m\u001b[0m\u001b[0m\n\u001b[1;32m   1893\u001b[0m \u001b[0;34m\u001b[0m\u001b[0m\n",
            "\u001b[0;32mpandas/_libs/parsers.pyx\u001b[0m in \u001b[0;36mpandas._libs.parsers.TextReader.__cinit__\u001b[0;34m()\u001b[0m\n",
            "\u001b[0;32mpandas/_libs/parsers.pyx\u001b[0m in \u001b[0;36mpandas._libs.parsers.TextReader._setup_parser_source\u001b[0;34m()\u001b[0m\n",
            "\u001b[0;31mFileNotFoundError\u001b[0m: [Errno 2] File C:\\Users\\osotimehin_s\\Documents\\GitHub\\blog\\input_data\\covid_input\\results_socialcons_agg.csv does not exist: 'C:\\\\Users\\\\osotimehin_s\\\\Documents\\\\GitHub\\\\blog\\\\input_data\\\\covid_input\\\\results_socialcons_agg.csv'"
          ]
        }
      ]
    },
    {
      "cell_type": "markdown",
      "metadata": {
        "id": "m97nfBm3j9RP",
        "colab_type": "text"
      },
      "source": [
        "## Introduction"
      ]
    },
    {
      "cell_type": "markdown",
      "metadata": {
        "id": "JDTPk3nNkDFa",
        "colab_type": "text"
      },
      "source": [
        "The covid-19 pandemic poses great public health and economic challenges to countries around the world. Slowing down the spread of the pandemic requires implementing social distancing measures that disrupt economic activity. At the same time, some activities need to be maintained, which puts workers in these sectors at risk of contracting the virus. How does the workers' exposure to these health and economic risks vary across sectors? How do\n",
        "these risks propagate across sectors?"
      ]
    },
    {
      "cell_type": "markdown",
      "metadata": {
        "id": "8x9NMitnj9RQ",
        "colab_type": "text"
      },
      "source": [
        "## Methodology"
      ]
    },
    {
      "cell_type": "markdown",
      "metadata": {
        "id": "uY0lD9FJobGM",
        "colab_type": "text"
      },
      "source": [
        "We focus in this paper on how risk cascade from the two groups of workers the hardest it by the pandemic. \n",
        "\n",
        "\n",
        "*   The first group of workers is those working in sectors providing sential goods and services, such as health care, food or pharmaceutical products. These\n",
        "workers face a higher health risk than other workers: at the risk of being infected, workers in\n",
        "those sectors are asked to continuing working to ensure that the population's essential needs\n",
        "are met, even when strict lockdown measures are imposed.\n",
        "*   The second group of workers is\n",
        "those working in establishments providing services to the public, such as hotels, restaurants,\n",
        "or cinemas, which we call social consumption sectors. These workers face a higher economic\n",
        "risk than other workers. These establishments are likely to operate at low occupancy, even as government-mandated closings are lifted, both because social distancing reduces the number of customers that they\n",
        "can serve and because customers will most likely avoid these establishments until a vaccine\n",
        "or a treatment becomes available.\n",
        "\n",
        "We provide, for 43 countries, a measure of each sectors' exposure to the health and\n",
        "economic risk that captures the spillover from the two groups of workers. \n",
        "The health risk is\n",
        "the risk coming from meeting the households' essential needs and the economic risk is the risk\n",
        "due to the unprecedented reduction in the demand for social-consumption establishments.\n",
        "We use a simple input-output framework, calibrated on data from the World Input Output\n",
        "Database, to compute the proportion of workers exposed to each type of risk and the spillover\n",
        "e\u000bects. We measure the health risk as the proportion of workers needed at the workplace\n",
        "to maintain the pre-pandemic household consumption in essential goods and services. We\n",
        "combine our employment result with the recent work by Dingel and Neiman (2020), which\n",
        "gives a lower bound for the fraction of each sector's jobs that can be done at home, to derive\n",
        "the health risk measure. We measure the economic risk as the decline in employment induced\n",
        "by the collapse of the demand for social consumption.\n",
        "\n",
        "We describe the methodology in detail in the [working paper](https://).\n",
        "\n"
      ]
    },
    {
      "cell_type": "code",
      "metadata": {
        "id": "f4S_7oXtj9RR",
        "colab_type": "code",
        "colab": {}
      },
      "source": [
        "#hide_input\n",
        "\n",
        "\n",
        "source = alt.topo_feature(data_world.world_110m.url, 'countries')\n",
        "\n",
        "\n",
        "alt.data_transformers.disable_max_rows()\n",
        "\n",
        "background = alt.Chart(source).mark_geoshape(\n",
        "    fill='lightgray',\n",
        "    stroke='white'\n",
        ").properties(\n",
        "    width=600,\n",
        "    height=300\n",
        ").project(type='equirectangular')\n",
        "\n",
        "selector = alt.selection_single(empty='none', fields=['country'],bind='legend', init={'country':'FRA'})\n",
        "selector_sector = alt.selection_single(empty='none', fields=['Name'], init={'Name':'close_all'})\n",
        "\n",
        "\n",
        "# Points and text\n",
        "hover = alt.selection(type='single', on='mouseover', nearest=True,\n",
        "                      fields=['Latitude (average)', 'Longitude (average)'])\n",
        "\n",
        "base = alt.Chart(data_countries).encode(\n",
        "    longitude='Longitude (average):Q',\n",
        "    latitude='Latitude (average):Q',\n",
        ")\n",
        "\n",
        "text = base.mark_text(dy=-5, align='right').encode(\n",
        "    alt.Text('country', type='nominal'),\n",
        "    opacity=alt.condition(~selector, alt.value(0), alt.value(1))\n",
        ")\n",
        "\n",
        "points = base.mark_point().encode(\n",
        "    color=alt.condition(selector, 'country:N', alt.value('lightgray'), \n",
        "                        legend=alt.Legend(orient='top', columns=12, symbolLimit=50), title='Select Country'),\n",
        "    size=alt.condition(~hover, alt.value(30), alt.value(100))\n",
        ").add_selection(hover).add_selection(selector)\n",
        "\n",
        "\n",
        "# Define the 3 Charts\n",
        "\n",
        "# Health Charts\n",
        "\n",
        "chart_3 = alt.Chart(data_sec_ess, width=600, height=300).mark_bar().encode(\n",
        "    y=alt.Y('Name:N',\n",
        "            sort=alt.SortField(field='health_risk', order='descending'), \n",
        "            axis=alt.Axis(grid=False,title='Sectors',labelLimit=100)),\n",
        "    x=alt.X('health_risk:Q', axis=alt.Axis(grid=False,title='Health Risk (% workforce at risk)',format='%')),\n",
        "    color = alt.Color('essential_text', scale=alt.Scale(range=['blue', 'lightblue', 'orange'], \n",
        "                                                        domain=['Essential', 'Non-Essential', 'All Sectors']),\n",
        "                                                        legend=alt.Legend(title='')),\n",
        "    tooltip=[alt.Tooltip('country:N'), alt.Tooltip('Name:N'),\n",
        "             alt.Tooltip('health_risk:Q',format='.2%'),\n",
        "             alt.Tooltip('Employment:Q',format='.2%')]\n",
        ").add_selection(selector)\n",
        "\n",
        "chart_4 = alt.Chart(data_sec_ess, width=600, height=300).mark_bar(size = 12).encode(\n",
        "    x=alt.X('Name:N', \n",
        "            axis=alt.Axis(grid=False,title='Sectors',labelLimit=100), sort=alt.SortField(field='Employment', order='descending')),\n",
        "    y=alt.Y('Teleworkers:Q', axis=alt.Axis(grid=False,title='Teleworkers (% of total Employment)',format='%')),\n",
        "    color=alt.ColorValue('#62B1D0'))\n",
        "\n",
        "chart_5 = alt.Chart(data_sec_ess, width=600, height=300).mark_circle().encode(\n",
        "    x = alt.X('Employment:Q', axis=alt.Axis(grid=False, title='Employment (% of pre-shock level)',format='%')),\n",
        "    y = alt.Y('Teleworker_sector:Q', axis=alt.Axis(grid=False,title='Workable from home (% of total Employment)',format='%')),\n",
        "    size = alt.Size('emp_share:Q',legend=None),\n",
        "    color = alt.Color('essential_text', scale=alt.Scale(range=['blue', 'lightblue', 'orange'], \n",
        "                                                        domain=['Essential', 'Non-Essential', 'All Sectors']),\n",
        "                      legend=None),\n",
        "    tooltip = [alt.Tooltip('country:N'), alt.Tooltip('Name:N'),alt.Tooltip('health_risk:Q',format='.2%'),\n",
        "             alt.Tooltip('Employment:Q',format='.2%'), alt.Tooltip('Teleworker_sector:Q',format='.2%')]).add_selection(selector)\n",
        "\n",
        "chart_6 = alt.Chart(data_sec_ess,width=600, height=300).mark_rule(strokeDash=[8,8],opacity=0.5).transform_filter(\n",
        "    'datum.Name==\"All Sectors\"')\n",
        "\n",
        "# Economic Charts\n",
        "\n",
        "chart_1 = alt.Chart(data_agg, width=600, height=300).mark_bar().encode(\n",
        "    y=alt.Y('label:N',sort=alt.SortField(field='Total Output', order='descending'), axis=alt.Axis(grid=False,title='Sectors Closed')),\n",
        "    x=alt.X('Total Output:Q',stack=None, axis=alt.Axis(grid=False,title='Aggregate Econ. Risk (%)',format='%')),\n",
        "    color = alt.condition(selector_sector, 'label:N', alt.value('lightgray'), legend=None),\n",
        "    tooltip=[alt.Tooltip('country:N'), alt.Tooltip('label:N'), alt.Tooltip('Total Output:Q',format='.2%',title='GDP loss')]\n",
        ").add_selection(selector).add_selection(selector_sector)\n",
        "\n",
        "chart_2 = alt.Chart(data_sec, width=600, height=300).mark_bar().encode(\n",
        "    y=alt.Y('dsName:N',sort=alt.SortField(field='Output', order='descending'), \n",
        "            axis=alt.Axis(grid=False,orient='left',title=None,labelLimit=100)),\n",
        "    x=alt.X('Output:Q',stack=None,axis=alt.Axis(grid=False,title='Economic Risk (%)',format='%')),\n",
        "    color=alt.condition(selector_sector, 'label:N', alt.value('lightgray')),\n",
        "    opacity = alt.condition('datum.type==\"closed\"',alt.value(1), alt.value(.5)),\n",
        "    tooltip=[alt.Tooltip('country:N'), alt.Tooltip('label:N'),\n",
        "             alt.Tooltip('dsName:N'), alt.Tooltip('Output:Q',format='.2%')]\n",
        ").add_selection(selector)\n",
        "\n",
        "\n",
        "# Country Charts\n",
        "\n",
        "chart_7 = alt.Chart(data_country, width=600, height=300).mark_circle().encode(\n",
        "    x = alt.X('health_risk:Q', axis=alt.Axis(grid=False, title='Health Risk (% of employment)',format='%')),\n",
        "    y = alt.Y('economic_risk:Q', axis=alt.Axis(grid=False,title='Economic Risk (% of GDP loss)',format='%')),\n",
        "    color = alt.Color('country:N',legend=None),\n",
        "    tooltip = [alt.Tooltip('country:N'),alt.Tooltip('health_risk:Q',format='.2%'),\n",
        "             alt.Tooltip('economic_risk:Q',format='.2%')]).properties(title=\"Risks by Country\")\n",
        "\n",
        "chart_8 = alt.Chart(data_country,width=600, height=300).mark_rule(strokeDash=[8,8],opacity=0.5).transform_filter(\n",
        "    'datum.country==\"Mean\"')\n",
        "\n",
        "\n",
        "# Encode all charts\n",
        "\n",
        "filter_chart_1 = chart_1.transform_filter(\n",
        "    selector).add_selection(\n",
        "    selector_sector).properties(title=\"Aggregate Economic Risk\")\n",
        "\n",
        "filter_chart_2 = chart_2.add_selection(selector).transform_filter(\n",
        "    selector).add_selection(selector_sector).transform_filter(\n",
        "    selector_sector).properties(title=\"Economic Risk by Sector\")\n",
        "\n",
        "filter_chart_3 = chart_3.add_selection(selector).transform_filter(\n",
        "    selector)\n",
        "\n",
        "filter_chart_4 = chart_4.transform_filter(selector)\n",
        "\n",
        "filter_chart_5 = chart_5.transform_filter(selector).properties(title=\"Health risk\")\n",
        "\n",
        "filter_chart_6 = chart_6.transform_filter(selector).encode(\n",
        "    x = 'Employment:Q')\n",
        "filter_chart_7 = chart_6.transform_filter(selector).encode(\n",
        "    y = 'Teleworker_sector:Q')\n",
        "\n",
        "filter_chart_8 = chart_8.encode(\n",
        "    x = 'health_risk:Q')\n",
        "filter_chart_9 = chart_8.encode(\n",
        "    y = 'economic_risk:Q')\n",
        "\n",
        "\n"
      ],
      "execution_count": 0,
      "outputs": []
    },
    {
      "cell_type": "markdown",
      "metadata": {
        "id": "7kxkGh9qj9RT",
        "colab_type": "text"
      },
      "source": [
        "###Sectors most exposed to health risks\n"
      ]
    },
    {
      "cell_type": "code",
      "metadata": {
        "id": "1PR2q-SOj9RU",
        "colab_type": "code",
        "colab": {}
      },
      "source": [
        "#hide_input\n",
        "((background + points + text) & (filter_chart_5 + filter_chart_6 + filter_chart_7 ) & (filter_chart_3 )).resolve_scale(color='independent')"
      ],
      "execution_count": 0,
      "outputs": []
    },
    {
      "cell_type": "markdown",
      "metadata": {
        "id": "tZH34wVTj9RX",
        "colab_type": "text"
      },
      "source": [
        "### Sectors most exposed to economic risks"
      ]
    },
    {
      "cell_type": "code",
      "metadata": {
        "id": "Rap2ePZtj9RX",
        "colab_type": "code",
        "colab": {}
      },
      "source": [
        "#hide_input\n",
        "(background + points + text).resolve_scale(color='independent') & (filter_chart_1 & filter_chart_2).resolve_scale(color='shared')\n"
      ],
      "execution_count": 0,
      "outputs": []
    },
    {
      "cell_type": "markdown",
      "metadata": {
        "id": "-EEjz8s0j9Ra",
        "colab_type": "text"
      },
      "source": [
        "###Risks by country"
      ]
    },
    {
      "cell_type": "code",
      "metadata": {
        "id": "fbP7vz0Gj9Ra",
        "colab_type": "code",
        "colab": {}
      },
      "source": [
        "#hide_input\n",
        "(chart_7 + filter_chart_8 + filter_chart_9)"
      ],
      "execution_count": 0,
      "outputs": []
    },
    {
      "cell_type": "code",
      "metadata": {
        "id": "hYd9Olqxj9Rd",
        "colab_type": "code",
        "colab": {}
      },
      "source": [
        ""
      ],
      "execution_count": 0,
      "outputs": []
    }
  ]
}